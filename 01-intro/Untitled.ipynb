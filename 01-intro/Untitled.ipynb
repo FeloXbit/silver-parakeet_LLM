{
 "cells": [
  {
   "cell_type": "code",
   "execution_count": 5,
   "id": "f4246675-28c5-4350-b955-e6070cb0f390",
   "metadata": {},
   "outputs": [],
   "source": [
    "import os"
   ]
  },
  {
   "cell_type": "code",
   "execution_count": 6,
   "id": "f43dc6ca-9a87-4a86-a7d4-f4aa2877a57e",
   "metadata": {},
   "outputs": [],
   "source": [
    "import google.generativeai as genai"
   ]
  },
  {
   "cell_type": "code",
   "execution_count": 9,
   "id": "a40baca9-ce45-4b7e-8b18-6a92dc5c1a6a",
   "metadata": {},
   "outputs": [],
   "source": [
    "genai.configure(api_key=os.getenv(\"GEMINI_API_KEY\"))"
   ]
  },
  {
   "cell_type": "code",
   "execution_count": 12,
   "id": "f6d17d15-69db-4c6b-90bb-6b3d8fa8e40f",
   "metadata": {},
   "outputs": [],
   "source": [
    "model = genai.GenerativeModel('gemini-2.0-flash')"
   ]
  },
  {
   "cell_type": "code",
   "execution_count": 13,
   "id": "1adaeee7-7743-42e1-bf22-f9220dc4c88f",
   "metadata": {},
   "outputs": [],
   "source": [
    "response = model.generate_content(\"Is it too late to join the course?\")"
   ]
  },
  {
   "cell_type": "code",
   "execution_count": 15,
   "id": "37f7c219-1b99-483e-921d-ccfa77956672",
   "metadata": {},
   "outputs": [
    {
     "name": "stdout",
     "output_type": "stream",
     "text": [
      "To determine if it's too late to join a course, I need more information!  Tell me:\n",
      "\n",
      "*   **What is the name of the course?**\n",
      "*   **Where is the course being offered (e.g., University, Online Platform, specific school)?**\n",
      "*   **What is the start date of the course, if you know it?**\n",
      "*   **What is the duration of the course (e.g., weeks, months, semester)?**\n",
      "*   **Is there a registration deadline?**\n",
      "\n",
      "With that information, I can usually find the course details online and tell you if registration is still open.\n",
      "\n",
      "In general, here are some scenarios:\n",
      "\n",
      "*   **Possibly Too Late:** If the course started a long time ago (e.g., several weeks or months) and doesn't allow late enrollment, it's likely too late.\n",
      "\n",
      "*   **Potentially Still Okay:** If the course just started, or if it's self-paced, you might still be able to join. Check the course website or contact the instructor/organizer.\n",
      "\n",
      "*   **Definitely Check:** If you don't know when the course started, or if it's a short course, check the course website or contact the instructor/organizer to see if late enrollment is possible.\n",
      "\n",
      "Looking forward to helping you find out!\n"
     ]
    }
   ],
   "source": [
    "print(response.text)"
   ]
  },
  {
   "cell_type": "code",
   "execution_count": null,
   "id": "b6bdc8bc-b68b-439d-a855-2687dcdf8fdc",
   "metadata": {},
   "outputs": [],
   "source": []
  }
 ],
 "metadata": {
  "kernelspec": {
   "display_name": "Python 3 (ipykernel)",
   "language": "python",
   "name": "python3"
  },
  "language_info": {
   "codemirror_mode": {
    "name": "ipython",
    "version": 3
   },
   "file_extension": ".py",
   "mimetype": "text/x-python",
   "name": "python",
   "nbconvert_exporter": "python",
   "pygments_lexer": "ipython3",
   "version": "3.11.7"
  }
 },
 "nbformat": 4,
 "nbformat_minor": 5
}
